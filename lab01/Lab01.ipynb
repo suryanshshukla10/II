{
 "cells": [
  {
   "cell_type": "code",
   "execution_count": 1,
   "id": "d57e00fd",
   "metadata": {},
   "outputs": [],
   "source": [
    "import os\n",
    "import sys\n",
    "# Add the path which contains wrappers for II harwares\n",
    "sys.path.append(r'.\\Hardware_src') # Make the change according to your path\n",
    "\n",
    "# Python modules for figure visualization\n",
    "import numpy as np\n",
    "import matplotlib.pyplot as plt\n",
    "from helper import check_minmax\n",
    "from IPython.display import clear_output\n",
    "from IPython.display import display, HTML"
   ]
  },
  {
   "cell_type": "code",
   "execution_count": 2,
   "id": "ccdfb187",
   "metadata": {},
   "outputs": [
    {
     "name": "stdout",
     "output_type": "stream",
     "text": [
      "Load uc480 library..\n",
      "ThorCam opened successfully.\n"
     ]
    }
   ],
   "source": [
    "from camera import Camera\n",
    "# Instantiate Camera object\n",
    "c = Camera()\n",
    "c.open()\n",
    "c.initialize_memory()"
   ]
  },
  {
   "cell_type": "code",
   "execution_count": 3,
   "id": "3ea41df6",
   "metadata": {},
   "outputs": [
    {
     "data": {
      "text/plain": [
       "7"
      ]
     },
     "execution_count": 3,
     "metadata": {},
     "output_type": "execute_result"
    }
   ],
   "source": [
    "# Set the pixel clock\n",
    "c.set_pixel_clock(7)\n",
    "\n",
    "# Check the pixel clock\n",
    "c.get_pixel_clock()"
   ]
  },
  {
   "cell_type": "markdown",
   "id": "da2da53d",
   "metadata": {},
   "source": [
    "### Creating A LIST OF EXPOSURE TIME"
   ]
  },
  {
   "cell_type": "code",
   "execution_count": 78,
   "id": "33d1b391",
   "metadata": {},
   "outputs": [
    {
     "data": {
      "text/plain": [
       "array([9.00000000e-03, 1.33333333e+01, 2.66666667e+01, 4.00000000e+01,\n",
       "       5.33333333e+01, 6.66666667e+01, 8.00000000e+01, 9.33333333e+01,\n",
       "       1.06666667e+02, 1.20000000e+02, 1.33333333e+02, 1.46666667e+02,\n",
       "       1.60000000e+02, 1.73333333e+02, 1.86666667e+02, 2.00000000e+02])"
      ]
     },
     "execution_count": 78,
     "metadata": {},
     "output_type": "execute_result"
    }
   ],
   "source": [
    "import numpy as np\n",
    "exposure_times = np.linspace(0,200,16)\n",
    "exposure_times[0] = 0.009\n",
    "exposure_times"
   ]
  },
  {
   "cell_type": "code",
   "execution_count": 30,
   "id": "b323b02c",
   "metadata": {},
   "outputs": [
    {
     "name": "stderr",
     "output_type": "stream",
     "text": [
      "C:\\Users\\Group3\\Desktop\\II_Software\\.\\Hardware_src\\helper.py:13: UserWarning: Value below maximum. Set to maximum (199.84631578947366).\n",
      "  warnings.warn('Value below maximum. Set to maximum ({0:}).'.format(val))\n"
     ]
    },
    {
     "data": {
      "text/plain": [
       "199.84631578947366"
      ]
     },
     "execution_count": 30,
     "metadata": {},
     "output_type": "execute_result"
    }
   ],
   "source": [
    "# Set exposure Min = 0.009 Max = 200\n",
    "exp = 2000\n",
    "c.set_exposure(exp)\n",
    "\n",
    "# Check current exposure\n",
    "c.get_exposure()"
   ]
  },
  {
   "cell_type": "code",
   "execution_count": 6,
   "id": "05683848",
   "metadata": {},
   "outputs": [
    {
     "data": {
      "text/plain": [
       "4.999151021370405"
      ]
     },
     "execution_count": 6,
     "metadata": {},
     "output_type": "execute_result"
    }
   ],
   "source": [
    "# Set the frame rate\n",
    "c.set_framerate(5)\n",
    "\n",
    "# Check the framerate\n",
    "\n",
    "c.get_framerate()"
   ]
  },
  {
   "cell_type": "markdown",
   "id": "d8263c28",
   "metadata": {},
   "source": [
    "## Capturing 100 images "
   ]
  },
  {
   "cell_type": "code",
   "execution_count": 75,
   "id": "80c4da66",
   "metadata": {
    "scrolled": true
   },
   "outputs": [
    {
     "data": {
      "text/plain": [
       "199.84631578947366"
      ]
     },
     "metadata": {},
     "output_type": "display_data"
    },
    {
     "data": {
      "text/plain": [
       "'Captured img : 0'"
      ]
     },
     "metadata": {},
     "output_type": "display_data"
    },
    {
     "data": {
      "text/plain": [
       "'Captured img : 1'"
      ]
     },
     "metadata": {},
     "output_type": "display_data"
    },
    {
     "data": {
      "text/plain": [
       "'Captured img : 2'"
      ]
     },
     "metadata": {},
     "output_type": "display_data"
    },
    {
     "data": {
      "text/plain": [
       "'Captured img : 3'"
      ]
     },
     "metadata": {},
     "output_type": "display_data"
    },
    {
     "data": {
      "text/plain": [
       "'Captured img : 4'"
      ]
     },
     "metadata": {},
     "output_type": "display_data"
    },
    {
     "data": {
      "text/plain": [
       "'Captured img : 5'"
      ]
     },
     "metadata": {},
     "output_type": "display_data"
    },
    {
     "data": {
      "text/plain": [
       "'Captured img : 6'"
      ]
     },
     "metadata": {},
     "output_type": "display_data"
    },
    {
     "data": {
      "text/plain": [
       "'Captured img : 7'"
      ]
     },
     "metadata": {},
     "output_type": "display_data"
    },
    {
     "data": {
      "text/plain": [
       "'Captured img : 8'"
      ]
     },
     "metadata": {},
     "output_type": "display_data"
    },
    {
     "data": {
      "text/plain": [
       "'Captured img : 9'"
      ]
     },
     "metadata": {},
     "output_type": "display_data"
    },
    {
     "data": {
      "text/plain": [
       "'Captured img : 10'"
      ]
     },
     "metadata": {},
     "output_type": "display_data"
    },
    {
     "data": {
      "text/plain": [
       "'Captured img : 11'"
      ]
     },
     "metadata": {},
     "output_type": "display_data"
    },
    {
     "data": {
      "text/plain": [
       "'Captured img : 12'"
      ]
     },
     "metadata": {},
     "output_type": "display_data"
    },
    {
     "data": {
      "text/plain": [
       "'Captured img : 13'"
      ]
     },
     "metadata": {},
     "output_type": "display_data"
    },
    {
     "data": {
      "text/plain": [
       "'Captured img : 14'"
      ]
     },
     "metadata": {},
     "output_type": "display_data"
    },
    {
     "data": {
      "text/plain": [
       "'Captured img : 15'"
      ]
     },
     "metadata": {},
     "output_type": "display_data"
    },
    {
     "data": {
      "text/plain": [
       "'Captured img : 16'"
      ]
     },
     "metadata": {},
     "output_type": "display_data"
    },
    {
     "data": {
      "text/plain": [
       "'Captured img : 17'"
      ]
     },
     "metadata": {},
     "output_type": "display_data"
    },
    {
     "data": {
      "text/plain": [
       "'Captured img : 18'"
      ]
     },
     "metadata": {},
     "output_type": "display_data"
    },
    {
     "data": {
      "text/plain": [
       "'Captured img : 19'"
      ]
     },
     "metadata": {},
     "output_type": "display_data"
    },
    {
     "data": {
      "text/plain": [
       "'Captured img : 20'"
      ]
     },
     "metadata": {},
     "output_type": "display_data"
    },
    {
     "data": {
      "text/plain": [
       "'Captured img : 21'"
      ]
     },
     "metadata": {},
     "output_type": "display_data"
    },
    {
     "ename": "KeyboardInterrupt",
     "evalue": "",
     "output_type": "error",
     "traceback": [
      "\u001b[1;31m---------------------------------------------------------------------------\u001b[0m",
      "\u001b[1;31mKeyboardInterrupt\u001b[0m                         Traceback (most recent call last)",
      "\u001b[1;32m~\\AppData\\Local\\Temp/ipykernel_9672/3205941992.py\u001b[0m in \u001b[0;36m<module>\u001b[1;34m\u001b[0m\n\u001b[0;32m     10\u001b[0m     \u001b[1;32mfor\u001b[0m \u001b[0mi\u001b[0m \u001b[1;32min\u001b[0m \u001b[0mrange\u001b[0m \u001b[1;33m(\u001b[0m\u001b[1;36m100\u001b[0m\u001b[1;33m)\u001b[0m\u001b[1;33m:\u001b[0m\u001b[1;33m\u001b[0m\u001b[1;33m\u001b[0m\u001b[0m\n\u001b[0;32m     11\u001b[0m \u001b[1;33m\u001b[0m\u001b[0m\n\u001b[1;32m---> 12\u001b[1;33m         \u001b[0mimg\u001b[0m \u001b[1;33m=\u001b[0m \u001b[0mc\u001b[0m\u001b[1;33m.\u001b[0m\u001b[0mcapture\u001b[0m\u001b[1;33m(\u001b[0m\u001b[1;33m)\u001b[0m\u001b[1;33m.\u001b[0m\u001b[0mcopy\u001b[0m\u001b[1;33m(\u001b[0m\u001b[1;33m)\u001b[0m\u001b[1;33m\u001b[0m\u001b[1;33m\u001b[0m\u001b[0m\n\u001b[0m\u001b[0;32m     13\u001b[0m         \u001b[0mimg_list\u001b[0m\u001b[1;33m.\u001b[0m\u001b[0mappend\u001b[0m\u001b[1;33m(\u001b[0m\u001b[0mimg\u001b[0m\u001b[1;33m)\u001b[0m\u001b[1;33m\u001b[0m\u001b[1;33m\u001b[0m\u001b[0m\n\u001b[0;32m     14\u001b[0m         \u001b[0mtime\u001b[0m\u001b[1;33m.\u001b[0m\u001b[0msleep\u001b[0m\u001b[1;33m(\u001b[0m\u001b[1;36m0.05\u001b[0m\u001b[1;33m)\u001b[0m\u001b[1;33m\u001b[0m\u001b[1;33m\u001b[0m\u001b[0m\n",
      "\u001b[1;32m~\\Desktop\\II_Software\\.\\Hardware_src\\camera.py\u001b[0m in \u001b[0;36mcapture\u001b[1;34m(self)\u001b[0m\n\u001b[0;32m    236\u001b[0m \u001b[1;33m\u001b[0m\u001b[0m\n\u001b[0;32m    237\u001b[0m     \u001b[1;32mdef\u001b[0m \u001b[0mcapture\u001b[0m\u001b[1;33m(\u001b[0m\u001b[0mself\u001b[0m\u001b[1;33m)\u001b[0m\u001b[1;33m:\u001b[0m\u001b[1;33m\u001b[0m\u001b[1;33m\u001b[0m\u001b[0m\n\u001b[1;32m--> 238\u001b[1;33m         \u001b[0mself\u001b[0m\u001b[1;33m.\u001b[0m\u001b[0mcall\u001b[0m\u001b[1;33m(\u001b[0m\u001b[1;34m'is_FreezeVideo'\u001b[0m\u001b[1;33m,\u001b[0m \u001b[0mself\u001b[0m\u001b[1;33m.\u001b[0m\u001b[0mhid\u001b[0m\u001b[1;33m,\u001b[0m \u001b[0mIS_WAIT\u001b[0m\u001b[1;33m)\u001b[0m\u001b[1;33m\u001b[0m\u001b[1;33m\u001b[0m\u001b[0m\n\u001b[0m\u001b[0;32m    239\u001b[0m         \u001b[0mim\u001b[0m \u001b[1;33m=\u001b[0m \u001b[0mself\u001b[0m\u001b[1;33m.\u001b[0m\u001b[0mget_image\u001b[0m\u001b[1;33m(\u001b[0m\u001b[1;33m)\u001b[0m\u001b[1;33m\u001b[0m\u001b[1;33m\u001b[0m\u001b[0m\n\u001b[0;32m    240\u001b[0m         \u001b[1;32mreturn\u001b[0m \u001b[0mim\u001b[0m\u001b[1;33m\u001b[0m\u001b[1;33m\u001b[0m\u001b[0m\n",
      "\u001b[1;32m~\\Desktop\\II_Software\\.\\Hardware_src\\camera.py\u001b[0m in \u001b[0;36mcall\u001b[1;34m(self, function, argtypes, *args)\u001b[0m\n\u001b[0;32m    190\u001b[0m         \u001b[1;32mif\u001b[0m \u001b[0margtypes\u001b[0m \u001b[1;32mis\u001b[0m \u001b[1;32mnot\u001b[0m \u001b[1;32mNone\u001b[0m\u001b[1;33m:\u001b[0m\u001b[1;33m\u001b[0m\u001b[1;33m\u001b[0m\u001b[0m\n\u001b[0;32m    191\u001b[0m             \u001b[0mfunc\u001b[0m\u001b[1;33m.\u001b[0m\u001b[0margtypes\u001b[0m \u001b[1;33m=\u001b[0m \u001b[0margtypes\u001b[0m\u001b[1;33m\u001b[0m\u001b[1;33m\u001b[0m\u001b[0m\n\u001b[1;32m--> 192\u001b[1;33m         \u001b[0massrt\u001b[0m\u001b[1;33m(\u001b[0m\u001b[0mfunc\u001b[0m\u001b[1;33m(\u001b[0m\u001b[1;33m*\u001b[0m\u001b[0margs\u001b[0m\u001b[1;33m)\u001b[0m\u001b[1;33m,\u001b[0m \u001b[0mfunction\u001b[0m\u001b[1;33m)\u001b[0m\u001b[1;33m\u001b[0m\u001b[1;33m\u001b[0m\u001b[0m\n\u001b[0m\u001b[0;32m    193\u001b[0m         \u001b[1;31m# if out == 0:\u001b[0m\u001b[1;33m\u001b[0m\u001b[1;33m\u001b[0m\u001b[0m\n\u001b[0;32m    194\u001b[0m         \u001b[1;31m#     return out\u001b[0m\u001b[1;33m\u001b[0m\u001b[1;33m\u001b[0m\u001b[0m\n",
      "\u001b[1;31mKeyboardInterrupt\u001b[0m: "
     ]
    }
   ],
   "source": [
    "import time\n",
    "exp_dict={}\n",
    "for j in exposure_times:  \n",
    "    #display(f\"Exposure Time : {j}\")\n",
    "    img_list = []\n",
    "    c.set_exposure(j)\n",
    "\n",
    "    # Check current exposure\n",
    "    display(c.get_exposure())\n",
    "    for i in range (100):\n",
    "        \n",
    "        img = c.capture().copy() \n",
    "        img_list.append(img)\n",
    "        time.sleep(0.05)\n",
    "        display(f\"Captured img : {i}\")\n",
    "    clear_output(wait=True)\n",
    "    exp_dict[j] = img_list\n",
    "    \n"
   ]
  },
  {
   "cell_type": "code",
   "execution_count": 65,
   "id": "4d868d09",
   "metadata": {},
   "outputs": [
    {
     "data": {
      "text/plain": [
       "10"
      ]
     },
     "execution_count": 65,
     "metadata": {},
     "output_type": "execute_result"
    }
   ],
   "source": [
    "a = (exp_dict[2])\n",
    "\n",
    "len(a)"
   ]
  },
  {
   "cell_type": "code",
   "execution_count": 67,
   "id": "c71482a9",
   "metadata": {},
   "outputs": [
    {
     "data": {
      "text/plain": [
       "[array([[17, 15, 17, ..., 28, 28, 18],\n",
       "        [21, 15, 19, ..., 19, 23, 24],\n",
       "        [15, 19, 13, ..., 12, 18, 24],\n",
       "        ...,\n",
       "        [45, 42, 48, ..., 44, 35, 39],\n",
       "        [57, 49, 42, ..., 33, 35, 38],\n",
       "        [57, 54, 62, ..., 45, 39, 63]], dtype=uint16),\n",
       " array([[11, 11, 18, ..., 31, 21, 16],\n",
       "        [21, 19, 19, ..., 10, 22, 30],\n",
       "        [14, 17, 19, ..., 14, 18, 19],\n",
       "        ...,\n",
       "        [42, 43, 51, ..., 36, 33, 42],\n",
       "        [54, 47, 42, ..., 34, 37, 39],\n",
       "        [58, 50, 53, ..., 42, 41, 59]], dtype=uint16),\n",
       " array([[11, 11, 21, ..., 31, 31, 19],\n",
       "        [22, 12, 21, ..., 17, 19, 27],\n",
       "        [13, 19, 17, ..., 17, 18, 21],\n",
       "        ...,\n",
       "        [44, 43, 46, ..., 36, 32, 41],\n",
       "        [53, 46, 42, ..., 34, 33, 44],\n",
       "        [57, 57, 59, ..., 52, 43, 60]], dtype=uint16),\n",
       " array([[13,  9, 19, ..., 27, 24, 22],\n",
       "        [22,  9, 22, ..., 18, 24, 26],\n",
       "        [10, 15, 16, ..., 12, 18, 20],\n",
       "        ...,\n",
       "        [40, 43, 49, ..., 34, 30, 38],\n",
       "        [53, 40, 43, ..., 31, 35, 36],\n",
       "        [56, 49, 53, ..., 50, 41, 57]], dtype=uint16),\n",
       " array([[10, 10, 20, ..., 28, 26, 21],\n",
       "        [28, 21, 21, ..., 14, 23, 29],\n",
       "        [16, 18, 19, ..., 12, 17, 23],\n",
       "        ...,\n",
       "        [42, 42, 53, ..., 37, 31, 35],\n",
       "        [55, 48, 40, ..., 31, 34, 35],\n",
       "        [56, 55, 55, ..., 51, 36, 62]], dtype=uint16),\n",
       " array([[15, 15, 22, ..., 32, 27, 18],\n",
       "        [26, 15, 22, ...,  9, 22, 28],\n",
       "        [14, 18, 16, ..., 14, 22, 25],\n",
       "        ...,\n",
       "        [44, 42, 45, ..., 40, 30, 45],\n",
       "        [62, 49, 42, ..., 38, 34, 37],\n",
       "        [55, 55, 51, ..., 48, 38, 59]], dtype=uint16),\n",
       " array([[19, 14, 22, ..., 29, 19, 19],\n",
       "        [22, 14, 22, ..., 14, 22, 30],\n",
       "        [12, 18, 18, ..., 15, 20, 22],\n",
       "        ...,\n",
       "        [42, 43, 51, ..., 39, 33, 34],\n",
       "        [56, 45, 42, ..., 34, 33, 36],\n",
       "        [60, 53, 60, ..., 47, 37, 61]], dtype=uint16),\n",
       " array([[15, 15, 15, ..., 28, 21, 19],\n",
       "        [21, 16, 19, ...,  9, 21, 30],\n",
       "        [15, 21, 14, ..., 11, 22, 23],\n",
       "        ...,\n",
       "        [44, 46, 46, ..., 41, 31, 37],\n",
       "        [54, 46, 44, ..., 36, 32, 36],\n",
       "        [53, 58, 52, ..., 48, 43, 62]], dtype=uint16),\n",
       " array([[15, 12, 16, ..., 24, 24, 21],\n",
       "        [26, 12, 23, ..., 14, 25, 29],\n",
       "        [17, 23, 18, ..., 10, 25, 20],\n",
       "        ...,\n",
       "        [45, 46, 52, ..., 41, 34, 40],\n",
       "        [58, 43, 43, ..., 32, 37, 40],\n",
       "        [55, 54, 57, ..., 50, 46, 59]], dtype=uint16),\n",
       " array([[18, 18, 21, ..., 28, 22, 19],\n",
       "        [26, 20, 21, ..., 14, 19, 31],\n",
       "        [15, 18, 17, ..., 15, 18, 27],\n",
       "        ...,\n",
       "        [42, 42, 52, ..., 34, 31, 37],\n",
       "        [51, 46, 40, ..., 32, 31, 31],\n",
       "        [59, 56, 56, ..., 50, 44, 64]], dtype=uint16)]"
      ]
     },
     "execution_count": 67,
     "metadata": {},
     "output_type": "execute_result"
    }
   ],
   "source": [
    "exp_dict[2]"
   ]
  },
  {
   "cell_type": "markdown",
   "id": "58320b38",
   "metadata": {},
   "source": [
    "## Plotting the image"
   ]
  },
  {
   "cell_type": "code",
   "execution_count": 27,
   "id": "2b50800f",
   "metadata": {},
   "outputs": [
    {
     "data": {
      "text/plain": [
       "<matplotlib.colorbar.Colorbar at 0x21c76eb4a00>"
      ]
     },
     "execution_count": 27,
     "metadata": {},
     "output_type": "execute_result"
    },
    {
     "data": {
      "image/png": "[encoded data removed]",
      "text/plain": [
       "<Figure size 432x288 with 2 Axes>"
      ]
     },
     "metadata": {
      "needs_background": "light"
     },
     "output_type": "display_data"
    }
   ],
   "source": [
    "img_plot = img_list[0]\n",
    "\n",
    "im = plt.imshow(img_plot, cmap = 'gray')\n",
    "plt.colorbar(im)"
   ]
  },
  {
   "cell_type": "code",
   "execution_count": 26,
   "id": "521f5e92",
   "metadata": {},
   "outputs": [
    {
     "ename": "AttributeError",
     "evalue": "'Camera' object has no attribute 'is_exposure'",
     "output_type": "error",
     "traceback": [
      "\u001b[1;31m---------------------------------------------------------------------------\u001b[0m",
      "\u001b[1;31mAttributeError\u001b[0m                            Traceback (most recent call last)",
      "\u001b[1;32m~\\AppData\\Local\\Temp/ipykernel_9672/3272185182.py\u001b[0m in \u001b[0;36m<module>\u001b[1;34m\u001b[0m\n\u001b[1;32m----> 1\u001b[1;33m \u001b[0mc\u001b[0m\u001b[1;33m.\u001b[0m\u001b[0mis_exposure\u001b[0m\u001b[1;33m(\u001b[0m\u001b[1;33m)\u001b[0m\u001b[1;33m\u001b[0m\u001b[1;33m\u001b[0m\u001b[0m\n\u001b[0m",
      "\u001b[1;31mAttributeError\u001b[0m: 'Camera' object has no attribute 'is_exposure'"
     ]
    }
   ],
   "source": [
    "c.is_exposure()"
   ]
  },
  {
   "cell_type": "code",
   "execution_count": null,
   "id": "78975ace",
   "metadata": {},
   "outputs": [],
   "source": []
  }
 ],
 "metadata": {
  "kernelspec": {
   "display_name": "Python 3",
   "language": "python",
   "name": "python3"
  },
  "language_info": {
   "codemirror_mode": {
    "name": "ipython",
    "version": 3
   },
   "file_extension": ".py",
   "mimetype": "text/x-python",
   "name": "python",
   "nbconvert_exporter": "python",
   "pygments_lexer": "ipython3",
   "version": "3.8.8"
  }
 },
 "nbformat": 4,
 "nbformat_minor": 5
}
