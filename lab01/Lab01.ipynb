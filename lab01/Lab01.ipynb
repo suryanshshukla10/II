{
 "cells": [
  {
   "cell_type": "markdown",
   "id": "ffcd95c7",
   "metadata": {},
   "source": [
    "## Setup Files\n"
   ]
  },
  {
   "cell_type": "code",
   "execution_count": 1,
   "id": "d57e00fd",
   "metadata": {},
   "outputs": [],
   "source": [
    "import os\n",
    "import sys\n",
    "# Add the path which contains wrappers for II harwares\n",
    "sys.path.append(r'.\\Hardware_src') # Make the change according to your path\n",
    "\n",
    "# Python modules for figure viualization\n",
    "from helper import check_minmax\n",
    "from IPython.display import clear_output\n",
    "from IPython.display import display, HTML"
   ]
  },
  {
   "cell_type": "markdown",
   "id": "33936c35",
   "metadata": {},
   "source": [
    "### Other Python Modules "
   ]
  },
  {
   "cell_type": "code",
   "execution_count": 1,
   "id": "8835b6fd",
   "metadata": {},
   "outputs": [],
   "source": [
    "import time\n",
    "import pickle\n",
    "import numpy as np\n",
    "import matplotlib.pyplot as plt"
   ]
  },
  {
   "cell_type": "markdown",
   "id": "2c56ba0e",
   "metadata": {},
   "source": [
    "### Camera Initialize"
   ]
  },
  {
   "cell_type": "code",
   "execution_count": 2,
   "id": "ccdfb187",
   "metadata": {},
   "outputs": [
    {
     "name": "stdout",
     "output_type": "stream",
     "text": [
      "Load uc480 library..\n",
      "ThorCam opened successfully.\n"
     ]
    }
   ],
   "source": [
    "from camera import Camera\n",
    "# Instantiate Camera object\n",
    "c = Camera()\n",
    "c.open()\n",
    "c.initialize_memory()"
   ]
  },
  {
   "cell_type": "markdown",
   "id": "2cdd5415",
   "metadata": {},
   "source": [
    "### Camera Setting"
   ]
  },
  {
   "cell_type": "code",
   "execution_count": 3,
   "id": "3ea41df6",
   "metadata": {},
   "outputs": [
    {
     "data": {
      "text/plain": [
       "7"
      ]
     },
     "execution_count": 3,
     "metadata": {},
     "output_type": "execute_result"
    }
   ],
   "source": [
    "# Set the pixel clock\n",
    "c.set_pixel_clock(7)\n",
    "# Check the pixel clock\n",
    "c.get_pixel_clock()\n",
    "\n",
    "# Set the frame rate\n",
    "c.set_framerate(5)\n",
    "# Check the framerate\n",
    "c.get_framerate()"
   ]
  },
  {
   "cell_type": "markdown",
   "id": "da2da53d",
   "metadata": {},
   "source": [
    "### Create Exposure time list"
   ]
  },
  {
   "cell_type": "code",
   "execution_count": 2,
   "id": "33d1b391",
   "metadata": {},
   "outputs": [
    {
     "data": {
      "text/plain": [
       "array([9.00000000e-03, 1.33333333e+01, 2.66666667e+01, 4.00000000e+01,\n",
       "       5.33333333e+01, 6.66666667e+01, 8.00000000e+01, 9.33333333e+01,\n",
       "       1.06666667e+02, 1.20000000e+02, 1.33333333e+02, 1.46666667e+02,\n",
       "       1.60000000e+02, 1.73333333e+02, 1.86666667e+02, 2.00000000e+02])"
      ]
     },
     "execution_count": 2,
     "metadata": {},
     "output_type": "execute_result"
    }
   ],
   "source": [
    "exposure_times = np.linspace(0,200,16) #max exposure time = 200\n",
    "exposure_times[0] = 0.009\n",
    "exposure_times"
   ]
  },
  {
   "cell_type": "markdown",
   "id": "495afeab",
   "metadata": {},
   "source": [
    "# Why this is required????"
   ]
  },
  {
   "cell_type": "code",
   "execution_count": 30,
   "id": "b323b02c",
   "metadata": {},
   "outputs": [
    {
     "name": "stderr",
     "output_type": "stream",
     "text": [
      "C:\\Users\\Group3\\Desktop\\II_Software\\.\\Hardware_src\\helper.py:13: UserWarning: Value below maximum. Set to maximum (199.84631578947366).\n",
      "  warnings.warn('Value below maximum. Set to maximum ({0:}).'.format(val))\n"
     ]
    },
    {
     "data": {
      "text/plain": [
       "199.84631578947366"
      ]
     },
     "execution_count": 30,
     "metadata": {},
     "output_type": "execute_result"
    }
   ],
   "source": [
    "# # Set exposure Min = 0.009 Max = 200\n",
    "# exp = 2000\n",
    "# c.set_exposure(exp)\n",
    "\n",
    "# # Check current exposure\n",
    "# c.get_exposure()"
   ]
  },
  {
   "cell_type": "markdown",
   "id": "a37cd336",
   "metadata": {},
   "source": [
    "# Part 1"
   ]
  },
  {
   "cell_type": "markdown",
   "id": "d8263c28",
   "metadata": {},
   "source": [
    "### Step Capturing 100 images "
   ]
  },
  {
   "cell_type": "code",
   "execution_count": 75,
   "id": "80c4da66",
   "metadata": {
    "collapsed": true
   },
   "outputs": [
    {
     "data": {
      "text/plain": [
       "199.84631578947366"
      ]
     },
     "metadata": {},
     "output_type": "display_data"
    },
    {
     "data": {
      "text/plain": [
       "'Captured img : 0'"
      ]
     },
     "metadata": {},
     "output_type": "display_data"
    },
    {
     "data": {
      "text/plain": [
       "'Captured img : 1'"
      ]
     },
     "metadata": {},
     "output_type": "display_data"
    },
    {
     "data": {
      "text/plain": [
       "'Captured img : 2'"
      ]
     },
     "metadata": {},
     "output_type": "display_data"
    },
    {
     "data": {
      "text/plain": [
       "'Captured img : 3'"
      ]
     },
     "metadata": {},
     "output_type": "display_data"
    },
    {
     "data": {
      "text/plain": [
       "'Captured img : 4'"
      ]
     },
     "metadata": {},
     "output_type": "display_data"
    },
    {
     "data": {
      "text/plain": [
       "'Captured img : 5'"
      ]
     },
     "metadata": {},
     "output_type": "display_data"
    },
    {
     "data": {
      "text/plain": [
       "'Captured img : 6'"
      ]
     },
     "metadata": {},
     "output_type": "display_data"
    },
    {
     "data": {
      "text/plain": [
       "'Captured img : 7'"
      ]
     },
     "metadata": {},
     "output_type": "display_data"
    },
    {
     "data": {
      "text/plain": [
       "'Captured img : 8'"
      ]
     },
     "metadata": {},
     "output_type": "display_data"
    },
    {
     "data": {
      "text/plain": [
       "'Captured img : 9'"
      ]
     },
     "metadata": {},
     "output_type": "display_data"
    },
    {
     "data": {
      "text/plain": [
       "'Captured img : 10'"
      ]
     },
     "metadata": {},
     "output_type": "display_data"
    },
    {
     "data": {
      "text/plain": [
       "'Captured img : 11'"
      ]
     },
     "metadata": {},
     "output_type": "display_data"
    },
    {
     "data": {
      "text/plain": [
       "'Captured img : 12'"
      ]
     },
     "metadata": {},
     "output_type": "display_data"
    },
    {
     "data": {
      "text/plain": [
       "'Captured img : 13'"
      ]
     },
     "metadata": {},
     "output_type": "display_data"
    },
    {
     "data": {
      "text/plain": [
       "'Captured img : 14'"
      ]
     },
     "metadata": {},
     "output_type": "display_data"
    },
    {
     "data": {
      "text/plain": [
       "'Captured img : 15'"
      ]
     },
     "metadata": {},
     "output_type": "display_data"
    },
    {
     "data": {
      "text/plain": [
       "'Captured img : 16'"
      ]
     },
     "metadata": {},
     "output_type": "display_data"
    },
    {
     "data": {
      "text/plain": [
       "'Captured img : 17'"
      ]
     },
     "metadata": {},
     "output_type": "display_data"
    },
    {
     "data": {
      "text/plain": [
       "'Captured img : 18'"
      ]
     },
     "metadata": {},
     "output_type": "display_data"
    },
    {
     "data": {
      "text/plain": [
       "'Captured img : 19'"
      ]
     },
     "metadata": {},
     "output_type": "display_data"
    },
    {
     "data": {
      "text/plain": [
       "'Captured img : 20'"
      ]
     },
     "metadata": {},
     "output_type": "display_data"
    },
    {
     "data": {
      "text/plain": [
       "'Captured img : 21'"
      ]
     },
     "metadata": {},
     "output_type": "display_data"
    },
    {
     "ename": "KeyboardInterrupt",
     "evalue": "",
     "output_type": "error",
     "traceback": [
      "\u001b[1;31m---------------------------------------------------------------------------\u001b[0m",
      "\u001b[1;31mKeyboardInterrupt\u001b[0m                         Traceback (most recent call last)",
      "\u001b[1;32m~\\AppData\\Local\\Temp/ipykernel_9672/3205941992.py\u001b[0m in \u001b[0;36m<module>\u001b[1;34m\u001b[0m\n\u001b[0;32m     10\u001b[0m     \u001b[1;32mfor\u001b[0m \u001b[0mi\u001b[0m \u001b[1;32min\u001b[0m \u001b[0mrange\u001b[0m \u001b[1;33m(\u001b[0m\u001b[1;36m100\u001b[0m\u001b[1;33m)\u001b[0m\u001b[1;33m:\u001b[0m\u001b[1;33m\u001b[0m\u001b[1;33m\u001b[0m\u001b[0m\n\u001b[0;32m     11\u001b[0m \u001b[1;33m\u001b[0m\u001b[0m\n\u001b[1;32m---> 12\u001b[1;33m         \u001b[0mimg\u001b[0m \u001b[1;33m=\u001b[0m \u001b[0mc\u001b[0m\u001b[1;33m.\u001b[0m\u001b[0mcapture\u001b[0m\u001b[1;33m(\u001b[0m\u001b[1;33m)\u001b[0m\u001b[1;33m.\u001b[0m\u001b[0mcopy\u001b[0m\u001b[1;33m(\u001b[0m\u001b[1;33m)\u001b[0m\u001b[1;33m\u001b[0m\u001b[1;33m\u001b[0m\u001b[0m\n\u001b[0m\u001b[0;32m     13\u001b[0m         \u001b[0mimg_list\u001b[0m\u001b[1;33m.\u001b[0m\u001b[0mappend\u001b[0m\u001b[1;33m(\u001b[0m\u001b[0mimg\u001b[0m\u001b[1;33m)\u001b[0m\u001b[1;33m\u001b[0m\u001b[1;33m\u001b[0m\u001b[0m\n\u001b[0;32m     14\u001b[0m         \u001b[0mtime\u001b[0m\u001b[1;33m.\u001b[0m\u001b[0msleep\u001b[0m\u001b[1;33m(\u001b[0m\u001b[1;36m0.05\u001b[0m\u001b[1;33m)\u001b[0m\u001b[1;33m\u001b[0m\u001b[1;33m\u001b[0m\u001b[0m\n",
      "\u001b[1;32m~\\Desktop\\II_Software\\.\\Hardware_src\\camera.py\u001b[0m in \u001b[0;36mcapture\u001b[1;34m(self)\u001b[0m\n\u001b[0;32m    236\u001b[0m \u001b[1;33m\u001b[0m\u001b[0m\n\u001b[0;32m    237\u001b[0m     \u001b[1;32mdef\u001b[0m \u001b[0mcapture\u001b[0m\u001b[1;33m(\u001b[0m\u001b[0mself\u001b[0m\u001b[1;33m)\u001b[0m\u001b[1;33m:\u001b[0m\u001b[1;33m\u001b[0m\u001b[1;33m\u001b[0m\u001b[0m\n\u001b[1;32m--> 238\u001b[1;33m         \u001b[0mself\u001b[0m\u001b[1;33m.\u001b[0m\u001b[0mcall\u001b[0m\u001b[1;33m(\u001b[0m\u001b[1;34m'is_FreezeVideo'\u001b[0m\u001b[1;33m,\u001b[0m \u001b[0mself\u001b[0m\u001b[1;33m.\u001b[0m\u001b[0mhid\u001b[0m\u001b[1;33m,\u001b[0m \u001b[0mIS_WAIT\u001b[0m\u001b[1;33m)\u001b[0m\u001b[1;33m\u001b[0m\u001b[1;33m\u001b[0m\u001b[0m\n\u001b[0m\u001b[0;32m    239\u001b[0m         \u001b[0mim\u001b[0m \u001b[1;33m=\u001b[0m \u001b[0mself\u001b[0m\u001b[1;33m.\u001b[0m\u001b[0mget_image\u001b[0m\u001b[1;33m(\u001b[0m\u001b[1;33m)\u001b[0m\u001b[1;33m\u001b[0m\u001b[1;33m\u001b[0m\u001b[0m\n\u001b[0;32m    240\u001b[0m         \u001b[1;32mreturn\u001b[0m \u001b[0mim\u001b[0m\u001b[1;33m\u001b[0m\u001b[1;33m\u001b[0m\u001b[0m\n",
      "\u001b[1;32m~\\Desktop\\II_Software\\.\\Hardware_src\\camera.py\u001b[0m in \u001b[0;36mcall\u001b[1;34m(self, function, argtypes, *args)\u001b[0m\n\u001b[0;32m    190\u001b[0m         \u001b[1;32mif\u001b[0m \u001b[0margtypes\u001b[0m \u001b[1;32mis\u001b[0m \u001b[1;32mnot\u001b[0m \u001b[1;32mNone\u001b[0m\u001b[1;33m:\u001b[0m\u001b[1;33m\u001b[0m\u001b[1;33m\u001b[0m\u001b[0m\n\u001b[0;32m    191\u001b[0m             \u001b[0mfunc\u001b[0m\u001b[1;33m.\u001b[0m\u001b[0margtypes\u001b[0m \u001b[1;33m=\u001b[0m \u001b[0margtypes\u001b[0m\u001b[1;33m\u001b[0m\u001b[1;33m\u001b[0m\u001b[0m\n\u001b[1;32m--> 192\u001b[1;33m         \u001b[0massrt\u001b[0m\u001b[1;33m(\u001b[0m\u001b[0mfunc\u001b[0m\u001b[1;33m(\u001b[0m\u001b[1;33m*\u001b[0m\u001b[0margs\u001b[0m\u001b[1;33m)\u001b[0m\u001b[1;33m,\u001b[0m \u001b[0mfunction\u001b[0m\u001b[1;33m)\u001b[0m\u001b[1;33m\u001b[0m\u001b[1;33m\u001b[0m\u001b[0m\n\u001b[0m\u001b[0;32m    193\u001b[0m         \u001b[1;31m# if out == 0:\u001b[0m\u001b[1;33m\u001b[0m\u001b[1;33m\u001b[0m\u001b[0m\n\u001b[0;32m    194\u001b[0m         \u001b[1;31m#     return out\u001b[0m\u001b[1;33m\u001b[0m\u001b[1;33m\u001b[0m\u001b[0m\n",
      "\u001b[1;31mKeyboardInterrupt\u001b[0m: "
     ]
    }
   ],
   "source": [
    "## creating functon for capturing 100 images and returns dictionary of images\n",
    "def capture_image(exposure_times,num_img=100):\n",
    "    \"\"\"[Captures the image with 100]\n",
    "\n",
    "    Args:\n",
    "        num_img ([int]): [number of images to capture]\n",
    "\n",
    "    Returns:\n",
    "        exp_dict[dict]: [returns the dictionary with keys as exposure time and value as the iamge array ]\n",
    "    \"\"\"\n",
    "\n",
    "    exp_dict = {}\n",
    "    for j in exposure_times:\n",
    "        #display(f\"Exposure Time : {j}\")\n",
    "    img_list = []\n",
    "    c.set_exposure(j)\n",
    "\n",
    "    # Check current exposure\n",
    "    display(c.get_exposure())\n",
    "    \n",
    "    for i in range(num_img):\n",
    "        img = c.capture().copy()\n",
    "        img_list.append(img)\n",
    "        time.sleep(0.05)  # creating delay of 0.05 sec\n",
    "        display(f\"Captured img : {i}\")\n",
    "    clear_output(wait=True)\n",
    "    exp_dict[j] = img_list\n",
    "    \n",
    "    return exp_dict \n",
    "\n",
    "##calling the function \n",
    "#dictionary of the image is in [0,1,2,...] order and each corresponds to exposure time list [0.009,...]\n",
    "\n",
    "\n"
   ]
  },
  {
   "cell_type": "markdown",
   "id": "57a42632",
   "metadata": {},
   "source": [
    "# Part 1 "
   ]
  },
  {
   "cell_type": "code",
   "execution_count": null,
   "id": "c7eba0c5",
   "metadata": {},
   "outputs": [],
   "source": [
    "\n",
    "##capture 100 images with 15 different time fame \n",
    "img_dict1 = capture_image(num_img)\n",
    "\n",
    "\n",
    "# a = (exp_dict[2])\n",
    "# len(a)\n",
    "# exp_dict[2]\n",
    "\n",
    "##plot the image \n",
    "img_plot = img_list[0]\n",
    "im = plt.imshow(img_plot, cmap = 'gray')\n",
    "plt.colorbar(im)"
   ]
  },
  {
   "cell_type": "markdown",
   "id": "9fbf2b9b",
   "metadata": {},
   "source": [
    "### Calculating the average of image "
   ]
  },
  {
   "cell_type": "code",
   "execution_count": null,
   "id": "e4ba869f",
   "metadata": {},
   "outputs": [],
   "source": [
    "img_mean = np.mean(a,axis=0, dtype = np.float64)\n",
    "\n",
    "# ? How to calculate the mean?\n",
    "# ? What needed to be calculated the mean?\n",
    "# ? Is the mean exposure time wise?"
   ]
  },
  {
   "cell_type": "markdown",
   "id": "e4e6584b",
   "metadata": {},
   "source": [
    "## Region-of-Interest (ROI) setup function"
   ]
  },
  {
   "cell_type": "markdown",
   "id": "69096f36",
   "metadata": {},
   "source": [
    "### Functions for ROI"
   ]
  },
  {
   "cell_type": "code",
   "execution_count": 1,
   "id": "944eb645",
   "metadata": {
    "collapsed": true
   },
   "outputs": [
    {
     "ename": "NameError",
     "evalue": "name 'c' is not defined",
     "output_type": "error",
     "traceback": [
      "\u001b[0;31m---------------------------------------------------------------------------\u001b[0m",
      "\u001b[0;31mNameError\u001b[0m                                 Traceback (most recent call last)",
      "\u001b[0;32m<ipython-input-1-88595ee228c6>\u001b[0m in \u001b[0;36m<module>\u001b[0;34m\u001b[0m\n\u001b[1;32m     43\u001b[0m     \u001b[0max\u001b[0m\u001b[0;34m.\u001b[0m\u001b[0mimshow\u001b[0m\u001b[0;34m(\u001b[0m\u001b[0mc\u001b[0m\u001b[0;34m.\u001b[0m\u001b[0mcapture\u001b[0m\u001b[0;34m(\u001b[0m\u001b[0;34m)\u001b[0m\u001b[0;34m.\u001b[0m\u001b[0mcopy\u001b[0m\u001b[0;34m(\u001b[0m\u001b[0;34m)\u001b[0m\u001b[0;34m,\u001b[0m \u001b[0mclim\u001b[0m \u001b[0;34m=\u001b[0m \u001b[0;34m[\u001b[0m\u001b[0;36m0\u001b[0m\u001b[0;34m,\u001b[0m\u001b[0;36m1023\u001b[0m\u001b[0;34m]\u001b[0m\u001b[0;34m,\u001b[0m \u001b[0mcmap\u001b[0m\u001b[0;34m=\u001b[0m\u001b[0;34m'gray'\u001b[0m\u001b[0;34m)\u001b[0m\u001b[0;34m\u001b[0m\u001b[0;34m\u001b[0m\u001b[0m\n\u001b[1;32m     44\u001b[0m \u001b[0;34m\u001b[0m\u001b[0m\n\u001b[0;32m---> 45\u001b[0;31m \u001b[0mROI_setup\u001b[0m\u001b[0;34m(\u001b[0m\u001b[0;34m)\u001b[0m\u001b[0;34m\u001b[0m\u001b[0;34m\u001b[0m\u001b[0m\n\u001b[0m",
      "\u001b[0;32m<ipython-input-1-88595ee228c6>\u001b[0m in \u001b[0;36mROI_setup\u001b[0;34m(roi_shape, roi_pose)\u001b[0m\n\u001b[1;32m     39\u001b[0m         \u001b[0;32mraise\u001b[0m \u001b[0mValueError\u001b[0m\u001b[0;34m(\u001b[0m\u001b[0;34m'\\n ROI pose (roi_pose) exceeds limit. \\n Full size is (1280,1024)'\u001b[0m\u001b[0;34m)\u001b[0m\u001b[0;34m\u001b[0m\u001b[0;34m\u001b[0m\u001b[0m\n\u001b[1;32m     40\u001b[0m \u001b[0;34m\u001b[0m\u001b[0m\n\u001b[0;32m---> 41\u001b[0;31m     \u001b[0mc\u001b[0m\u001b[0;34m.\u001b[0m\u001b[0mset_roi\u001b[0m\u001b[0;34m(\u001b[0m\u001b[0mroi_shape\u001b[0m\u001b[0;34m,\u001b[0m\u001b[0mroi_pose\u001b[0m\u001b[0;34m)\u001b[0m\u001b[0;34m\u001b[0m\u001b[0;34m\u001b[0m\u001b[0m\n\u001b[0m\u001b[1;32m     42\u001b[0m     \u001b[0mfig\u001b[0m\u001b[0;34m,\u001b[0m \u001b[0max\u001b[0m \u001b[0;34m=\u001b[0m \u001b[0mplt\u001b[0m\u001b[0;34m.\u001b[0m\u001b[0msubplots\u001b[0m\u001b[0;34m(\u001b[0m\u001b[0mfigsize\u001b[0m\u001b[0;34m=\u001b[0m\u001b[0;34m(\u001b[0m\u001b[0;36m7\u001b[0m\u001b[0;34m,\u001b[0m\u001b[0;36m7\u001b[0m\u001b[0;34m)\u001b[0m\u001b[0;34m)\u001b[0m\u001b[0;34m\u001b[0m\u001b[0;34m\u001b[0m\u001b[0m\n\u001b[1;32m     43\u001b[0m     \u001b[0max\u001b[0m\u001b[0;34m.\u001b[0m\u001b[0mimshow\u001b[0m\u001b[0;34m(\u001b[0m\u001b[0mc\u001b[0m\u001b[0;34m.\u001b[0m\u001b[0mcapture\u001b[0m\u001b[0;34m(\u001b[0m\u001b[0;34m)\u001b[0m\u001b[0;34m.\u001b[0m\u001b[0mcopy\u001b[0m\u001b[0;34m(\u001b[0m\u001b[0;34m)\u001b[0m\u001b[0;34m,\u001b[0m \u001b[0mclim\u001b[0m \u001b[0;34m=\u001b[0m \u001b[0;34m[\u001b[0m\u001b[0;36m0\u001b[0m\u001b[0;34m,\u001b[0m\u001b[0;36m1023\u001b[0m\u001b[0;34m]\u001b[0m\u001b[0;34m,\u001b[0m \u001b[0mcmap\u001b[0m\u001b[0;34m=\u001b[0m\u001b[0;34m'gray'\u001b[0m\u001b[0;34m)\u001b[0m\u001b[0;34m\u001b[0m\u001b[0;34m\u001b[0m\u001b[0m\n",
      "\u001b[0;31mNameError\u001b[0m: name 'c' is not defined"
     ]
    }
   ],
   "source": [
    "#check for the ROI setup \n",
    "def check(st):\n",
    "    # divisibility check by 4\n",
    "    n = len(st)\n",
    "    # Empty string\n",
    "    if (n == 0):\n",
    "        return False\n",
    "    # If there is single\n",
    "    # digit\n",
    "    if (n == 1):\n",
    "        return ((st[0] - '0') % 4 == 0)\n",
    "    # If number formed by\n",
    "    # last two digits is\n",
    "    # divisible by 4.\n",
    "    last = (int)(st[n - 1])\n",
    "    second_last = (int)(st[n - 2])\n",
    "    return ((second_last * 10 + last) % 4 == 0) \n",
    "\n",
    "def ROI_setup(roi_shape = [100,100],roi_pose = [1000,500]):\n",
    "   # use error message for roi shape and roi pose \n",
    "    # roi_shape : ROI size MUST BE MULTIPLE OF 4\n",
    "    # roi_pose : The location of top-left corner of AOI on axis 0 and 1;\n",
    "    # roi_pose : Full size is (1280,1024)\n",
    "    \n",
    "        # roi_shape : ROI size MUST BE MULTIPLE OF 4\n",
    "    if not (check(str(roi_shape[0])) & check(str(roi_shape[1]))):\n",
    "        raise ValueError('\\n ROI size MUST BE MULTIPLE OF 4')\n",
    "\n",
    "    if roi_pose[0] >1280 &  roi_pose[0] >1024: \n",
    "        # roi_pose : Full size is (1280,1024)\n",
    "        raise ValueError('\\n ROI pose (roi_pose) exceeds limit. \\n Full size is (1280,1024)')\n",
    "\n",
    "    c.set_roi(roi_shape,roi_pose)\n",
    "    fig, ax = plt.subplots(figsize=(7,7))\n",
    "    ax.imshow(c.capture().copy(), clim = [0,1023], cmap='gray')\n",
    "    \n"
   ]
  },
  {
   "cell_type": "code",
   "execution_count": null,
   "id": "d72057a7",
   "metadata": {},
   "outputs": [],
   "source": [
    "#to run the ROI setup \n",
    "ROI_setup()\n",
    "\n",
    "#creatig list of exposure time (15)\n",
    "exposure_times = np.linspace(0,200,15) #max exposure time = 200\n",
    "exposure_times[0] = 0.009\n",
    "exposure_times"
   ]
  },
  {
   "cell_type": "markdown",
   "id": "bbcea2bd",
   "metadata": {},
   "source": [
    "### Capture 100 images for each exposure time with given ROI"
   ]
  },
  {
   "cell_type": "code",
   "execution_count": null,
   "id": "08dac858",
   "metadata": {},
   "outputs": [],
   "source": [
    "#set ROI \n",
    "ROI_setup(roi_shape = [100,100],roi_pose = [1000,500])\n",
    "#define 15 exposure time \n",
    "exposure_times = np.linspace(0,200,15) #max exposure time = 200\n",
    "exposure_times[0] = 0.009\n",
    "\n",
    "#capture 100 images and return dictionary \n",
    "img_dict_2 = capture_image(exposure_times,num_img=100)"
   ]
  },
  {
   "cell_type": "markdown",
   "id": "fbe2004c",
   "metadata": {},
   "source": [
    "### Function for saving to json file"
   ]
  },
  {
   "cell_type": "code",
   "execution_count": null,
   "id": "81ccce2e",
   "metadata": {},
   "outputs": [],
   "source": [
    "def saving_data(fileName='data.json',dataDict=my_dict):\n",
    "    with open(fileName, 'wb') as fp:\n",
    "        pickle.dump(dataDict, fp)\n",
    "        \n",
    "def read_data(fileName='data.json'):\n",
    "    with open(fileName, 'rb') as fp:\n",
    "        data = pickle.load(fp)        \n",
    "    return data "
   ]
  },
  {
   "cell_type": "code",
   "execution_count": null,
   "id": "1faf0d01",
   "metadata": {},
   "outputs": [],
   "source": [
    "#eg dict\n",
    "#my_dict = { 1: img1, 2: img2, 3: img3, 4: img4}\n",
    "saving_data(fileName='part1.json',dataDict=img_dict_2)\n",
    "img = read_data('part1.json')"
   ]
  },
  {
   "cell_type": "markdown",
   "id": "c50a4ae0",
   "metadata": {},
   "source": [
    "# Part 2"
   ]
  },
  {
   "cell_type": "code",
   "execution_count": null,
   "id": "d07137d6",
   "metadata": {},
   "outputs": [],
   "source": []
  },
  {
   "cell_type": "markdown",
   "id": "c502a355",
   "metadata": {},
   "source": [
    "# Part 3"
   ]
  },
  {
   "cell_type": "code",
   "execution_count": null,
   "id": "185cfa92",
   "metadata": {},
   "outputs": [],
   "source": []
  },
  {
   "cell_type": "markdown",
   "id": "5b324cf4",
   "metadata": {},
   "source": [
    "### Close the camera "
   ]
  },
  {
   "cell_type": "code",
   "execution_count": null,
   "id": "fd33378b",
   "metadata": {},
   "outputs": [],
   "source": [
    "# Close the camera\n",
    "c.close()"
   ]
  }
 ],
 "metadata": {
  "kernelspec": {
   "display_name": "Python 3",
   "language": "python",
   "name": "python3"
  },
  "language_info": {
   "codemirror_mode": {
    "name": "ipython",
    "version": 3
   },
   "file_extension": ".py",
   "mimetype": "text/x-python",
   "name": "python",
   "nbconvert_exporter": "python",
   "pygments_lexer": "ipython3",
   "version": "3.8.8"
  }
 },
 "nbformat": 4,
 "nbformat_minor": 5
}
