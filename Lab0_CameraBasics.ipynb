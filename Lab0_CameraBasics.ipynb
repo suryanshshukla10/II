{
 "cells": [
  {
   "cell_type": "markdown",
   "id": "4c0a5af5",
   "metadata": {},
   "source": [
    "# Lab 0: Getting familiar with the camera"
   ]
  },
  {
   "cell_type": "markdown",
   "id": "2167fb5a",
   "metadata": {},
   "source": [
    "The main purpose of Lab 0 is to familiarize yourselves with the camera. You should be able to capture an image, establish a basic understanding of camera parameters and adjust them in live image display to obatin the best image possible"
   ]
  },
  {
   "cell_type": "markdown",
   "id": "7eedb8ba",
   "metadata": {},
   "source": [
    "### Import basic Python modules "
   ]
  },
  {
   "cell_type": "code",
   "execution_count": null,
   "id": "006cf82b",
   "metadata": {},
   "outputs": [],
   "source": [
    "import os\n",
    "import sys\n",
    "# Add the path which contains wrappers for II harwares\n",
    "sys.path.append(r'.\\Hardware_src') # Make the change according to your path\n",
    "\n",
    "# Python modules for figure visualization\n",
    "import numpy as np\n",
    "import matplotlib.pyplot as plt\n",
    "from helper import check_minmax\n",
    "from IPython.display import clear_output\n",
    "from IPython.display import display, HTML"
   ]
  },
  {
   "cell_type": "markdown",
   "id": "0c4d6648",
   "metadata": {},
   "source": [
    "### Camera object instantiation"
   ]
  },
  {
   "cell_type": "code",
   "execution_count": null,
   "id": "bd4b67fd",
   "metadata": {},
   "outputs": [],
   "source": [
    "from camera import Camera\n",
    "# Instantiate Camera object\n",
    "c = Camera()\n",
    "c.open()\n",
    "c.initialize_memory()"
   ]
  },
  {
   "cell_type": "markdown",
   "id": "79c6f826",
   "metadata": {},
   "source": [
    "### Check camera properties"
   ]
  },
  {
   "cell_type": "code",
   "execution_count": null,
   "id": "097cb279",
   "metadata": {},
   "outputs": [],
   "source": [
    "c.get_properties()"
   ]
  },
  {
   "cell_type": "markdown",
   "id": "405c8571",
   "metadata": {},
   "source": [
    "### Capture your first image"
   ]
  },
  {
   "cell_type": "code",
   "execution_count": null,
   "id": "8d4eb4ba",
   "metadata": {},
   "outputs": [],
   "source": [
    "img = c.capture().copy() # Note: it's always a good habit to use np.copy() when assigning values to another variables\n",
    "                         # to avoid they share the same address"
   ]
  },
  {
   "cell_type": "code",
   "execution_count": null,
   "id": "8c59a99b",
   "metadata": {},
   "outputs": [],
   "source": [
    "# Visualize your captured image\n",
    "\n",
    "#########################\n",
    "######## YOUR CODE#######"
   ]
  },
  {
   "cell_type": "markdown",
   "id": "3d1c2d02",
   "metadata": {},
   "source": [
    "Think about the following questions:\n",
    "+ How does your image look like? In-focus or out-of-focus? Is there any saturation in image readout?\n",
    "+ Based on what we have discussed, what causes saturation? How do you control the detector pixel readout?"
   ]
  },
  {
   "cell_type": "markdown",
   "id": "3d591435",
   "metadata": {},
   "source": [
    "### Change the imaging settings"
   ]
  },
  {
   "cell_type": "code",
   "execution_count": null,
   "id": "c006fdff",
   "metadata": {},
   "outputs": [],
   "source": [
    "# Set the frame rate\n",
    "c.set_framerate(5)\n",
    "\n",
    "# Check the framerate\n",
    "c.get_framerate()"
   ]
  },
  {
   "cell_type": "code",
   "execution_count": null,
   "id": "06d93b94",
   "metadata": {},
   "outputs": [],
   "source": [
    "# Set the pixel clock\n",
    "c.set_pixel_clock(7)\n",
    "\n",
    "# Check the pixel clock\n",
    "c.get_pixel_clock()"
   ]
  },
  {
   "cell_type": "code",
   "execution_count": null,
   "id": "761b25f1",
   "metadata": {},
   "outputs": [],
   "source": [
    "# Set exposure\n",
    "c.set_exposure(50)\n",
    "\n",
    "# Check current exposure\n",
    "c.get_exposure()"
   ]
  },
  {
   "cell_type": "markdown",
   "id": "c8bcf854",
   "metadata": {},
   "source": [
    "### Live image display"
   ]
  },
  {
   "cell_type": "markdown",
   "id": "a52ca363",
   "metadata": {},
   "source": [
    "Feel free to customize the example code for live image display "
   ]
  },
  {
   "cell_type": "code",
   "execution_count": null,
   "id": "a7cdaae8",
   "metadata": {},
   "outputs": [],
   "source": [
    "# Live image display for fine-tuning the camera parameters\n",
    "fig, ax = plt.subplots(figsize=(7, 7))\n",
    "plt.close(fig) \n",
    "# live image display with exception handling\n",
    "try:\n",
    "    while True: \n",
    "        ax.imshow(c.capture().copy(), clim=[0, 1023], cmap='gray')\n",
    "        clear_output(wait=True)\n",
    "        display(fig)\n",
    "except KeyboardInterrupt: # interrupt python kernel (press i twice in command mode) to stop image capture\n",
    "    print('Live image display has stopped')\n",
    "finally:\n",
    "    print('Statement here will be executed even if an exception occurs in the try block')"
   ]
  },
  {
   "cell_type": "markdown",
   "id": "2d2378d8",
   "metadata": {},
   "source": [
    "### Seting up the imaging Region-of-Interest (ROI)"
   ]
  },
  {
   "cell_type": "markdown",
   "id": "3d36f092",
   "metadata": {},
   "source": [
    "You don't always have to capture the full-field image, feel free to narow down to a specific ROI and focus on your target of interest"
   ]
  },
  {
   "cell_type": "markdown",
   "id": "5e30a9ca",
   "metadata": {},
   "source": [
    "**Attention**: Keep in mind that raw measurement is **the transpose of your camera view** due to different memory order in camera and in Python. It's a little bit confusing, but always remember it when setting up ROI"
   ]
  },
  {
   "cell_type": "code",
   "execution_count": null,
   "id": "97c189ff",
   "metadata": {},
   "outputs": [],
   "source": [
    "# Set the imaging ROI (in raw measurement view)\n",
    "roi_shape = [120,120] # ROI size MUST BE MULTIPLE OF 4\n",
    "roi_pos = [1000,500] # The location of top-left corner of AOI on axis 0 and 1;\n",
    "                     # Full size is (1280,1024)\n",
    "c.set_roi(roi_shape, roi_pos)"
   ]
  },
  {
   "cell_type": "markdown",
   "id": "0ac06e7e",
   "metadata": {},
   "source": [
    "Always visualize the captured image to check if the ROI is what you desired"
   ]
  },
  {
   "cell_type": "code",
   "execution_count": null,
   "id": "8e09c8d9",
   "metadata": {},
   "outputs": [],
   "source": [
    "########################################\n",
    "############ YOUR CODE #################"
   ]
  },
  {
   "cell_type": "markdown",
   "id": "87415401",
   "metadata": {},
   "source": [
    "### Close the camera"
   ]
  },
  {
   "cell_type": "code",
   "execution_count": null,
   "id": "32fd375a",
   "metadata": {},
   "outputs": [],
   "source": [
    "# Close the camera\n",
    "c.close()"
   ]
  }
 ],
 "metadata": {
  "kernelspec": {
   "display_name": "Python 3",
   "language": "python",
   "name": "python3"
  },
  "language_info": {
   "codemirror_mode": {
    "name": "ipython",
    "version": 3
   },
   "file_extension": ".py",
   "mimetype": "text/x-python",
   "name": "python",
   "nbconvert_exporter": "python",
   "pygments_lexer": "ipython3",
   "version": "3.8.8"
  }
 },
 "nbformat": 4,
 "nbformat_minor": 5
}
